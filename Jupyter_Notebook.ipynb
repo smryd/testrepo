{
 "cells": [
  {
   "cell_type": "markdown",
   "metadata": {},
   "source": [
    "<center>\n",
    "    <img src=\"https://cf-courses-data.s3.us.cloud-object-storage.appdomain.cloud/IBMDeveloperSkillsNetwork-DS0105EN-SkillsNetwork/labs/Module2/images/SN_web_lightmode.png\" width=\"300\" alt=\"cognitiveclass.ai logo\">\n",
    "</center>\n"
   ]
  },
  {
   "cell_type": "markdown",
   "metadata": {},
   "source": [
    "#### Add your code below following the instructions given in the course\n"
   ]
  },
  {
   "cell_type": "markdown",
   "metadata": {},
   "source": [
    "<h1>My Jupyter Notebook on IBM Watson Studio"
   ]
  },
  {
   "cell_type": "markdown",
   "metadata": {},
   "source": [
    "**Sean**  \n",
    "Data Analyst"
   ]
  },
  {
   "cell_type": "markdown",
   "metadata": {
    "tags": []
   },
   "source": [
    "*I am interested in Data Science because of its broad applications in almost every industry.*"
   ]
  },
  {
   "cell_type": "markdown",
   "metadata": {},
   "source": [
    "<h3>Code to Print Output of an Equation:"
   ]
  },
  {
   "cell_type": "code",
   "execution_count": 1,
   "metadata": {},
   "outputs": [
    {
     "name": "stdout",
     "output_type": "stream",
     "text": [
      "777\n"
     ]
    }
   ],
   "source": [
    "print(7*111)"
   ]
  },
  {
   "cell_type": "markdown",
   "metadata": {},
   "source": [
    "This is a bulleted list:\n",
    "- List Item 1\n",
    "- List Item 2\n",
    "- List Item 3\n",
    "***\n",
    "This is a numbered list:\n",
    "1. List Item\n",
    "2. List Item\n",
    "3. List Item\n",
    "***\n",
    "This is a Table:  \n",
    "| Column 1 | Column 2 | Column 3 |\n",
    "| -------- | -------- | -------- |\n",
    "| Row 1 Col 1 | Row 1 Col 2 | Row 1 Col 3 |\n",
    "| Row 2 Col 1 | Row 2 Col 2 | Row 2 Col 3 |\n",
    "| Row 3 Col 1 | Row 3 Col 2 | Row 3 Col 3 |\n",
    "***\n",
    "Here is a hyperlink to [Google](https://google.com)\n",
    "***\n",
    "This is a picture of a banana:  \n",
    "![Banana](labs/DS0105EN/banana.jpg \"Banana\")\n",
    "***\n",
    "<mark>This text is highlighted</mark>\n",
    "***\n",
    ">This is a blockquote of text.\n",
    ">\n",
    ">It has multiple lines.\n",
    "***\n",
    "~~This text has strikethrough~~"
   ]
  }
 ],
 "metadata": {
  "kernelspec": {
   "display_name": "Python",
   "language": "python",
   "name": "conda-env-python-py"
  },
  "language_info": {
   "codemirror_mode": {
    "name": "ipython",
    "version": 3
   },
   "file_extension": ".py",
   "mimetype": "text/x-python",
   "name": "python",
   "nbconvert_exporter": "python",
   "pygments_lexer": "ipython3",
   "version": "3.7.12"
  }
 },
 "nbformat": 4,
 "nbformat_minor": 4
}
